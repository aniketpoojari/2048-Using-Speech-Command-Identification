{
 "cells": [
  {
   "cell_type": "code",
   "execution_count": 1,
   "metadata": {
    "colab": {
     "base_uri": "https://localhost:8080/"
    },
    "executionInfo": {
     "elapsed": 2742,
     "status": "ok",
     "timestamp": 1614960197007,
     "user": {
      "displayName": "aniket poojari",
      "photoUrl": "https://lh3.googleusercontent.com/a-/AOh14Ggq_cw5GlJ_HceHGjFtLxCCLPqiYvg5ffKS76adUw=s64",
      "userId": "09624879631889696305"
     },
     "user_tz": -330
    },
    "id": "S1Qc7m_xTb7A",
    "outputId": "f73f64e8-1cba-4997-f779-a004e81b7dbb"
   },
   "outputs": [
    {
     "name": "stdout",
     "output_type": "stream",
     "text": [
      "Drive already mounted at /content/drive; to attempt to forcibly remount, call drive.mount(\"/content/drive\", force_remount=True).\n"
     ]
    }
   ],
   "source": [
    "from google.colab import drive\n",
    "drive.mount('/content/drive')"
   ]
  },
  {
   "cell_type": "markdown",
   "metadata": {
    "id": "rXe5VgkRTtnz"
   },
   "source": [
    "# IMPORTS"
   ]
  },
  {
   "cell_type": "code",
   "execution_count": 2,
   "metadata": {
    "executionInfo": {
     "elapsed": 2088,
     "status": "ok",
     "timestamp": 1614960203336,
     "user": {
      "displayName": "aniket poojari",
      "photoUrl": "https://lh3.googleusercontent.com/a-/AOh14Ggq_cw5GlJ_HceHGjFtLxCCLPqiYvg5ffKS76adUw=s64",
      "userId": "09624879631889696305"
     },
     "user_tz": -330
    },
    "id": "H8n7z3y1TsYY"
   },
   "outputs": [],
   "source": [
    "dir = \"drive/MyDrive/2048-Using-Speech-Command-Identification/\""
   ]
  },
  {
   "cell_type": "code",
   "execution_count": 3,
   "metadata": {
    "colab": {
     "base_uri": "https://localhost:8080/"
    },
    "executionInfo": {
     "elapsed": 10715,
     "status": "ok",
     "timestamp": 1614960214229,
     "user": {
      "displayName": "aniket poojari",
      "photoUrl": "https://lh3.googleusercontent.com/a-/AOh14Ggq_cw5GlJ_HceHGjFtLxCCLPqiYvg5ffKS76adUw=s64",
      "userId": "09624879631889696305"
     },
     "user_tz": -330
    },
    "id": "Xsi4wbQZRbiv",
    "outputId": "b4e1e66d-e02f-4e3f-911f-ecbf062bb03f"
   },
   "outputs": [
    {
     "name": "stdout",
     "output_type": "stream",
     "text": [
      "Requirement already satisfied: soundfile in /usr/local/lib/python3.7/dist-packages (0.10.3.post1)\n",
      "Requirement already satisfied: cffi>=1.0 in /usr/local/lib/python3.7/dist-packages (from soundfile) (1.14.5)\n",
      "Requirement already satisfied: pycparser in /usr/local/lib/python3.7/dist-packages (from cffi>=1.0->soundfile) (2.20)\n",
      "Collecting torchaudio==0.5.0\n",
      "\u001b[?25l  Downloading https://files.pythonhosted.org/packages/56/22/f9b9448cd7298dbe2adb428a1527dd4b3836275337da6f34da3efcd12798/torchaudio-0.5.0-cp37-cp37m-manylinux1_x86_64.whl (3.2MB)\n",
      "\u001b[K     |████████████████████████████████| 3.2MB 11.3MB/s \n",
      "\u001b[?25hInstalling collected packages: torchaudio\n",
      "Successfully installed torchaudio-0.5.0\n",
      "Collecting pytorch-model-summary\n",
      "  Downloading https://files.pythonhosted.org/packages/fe/45/01d67be55fe3683a9221ac956ba46d1ca32da7bf96029b8d1c7667b8a55c/pytorch_model_summary-0.1.2-py3-none-any.whl\n",
      "Requirement already satisfied: torch in /usr/local/lib/python3.7/dist-packages (from pytorch-model-summary) (1.7.1+cu101)\n",
      "Requirement already satisfied: tqdm in /usr/local/lib/python3.7/dist-packages (from pytorch-model-summary) (4.41.1)\n",
      "Requirement already satisfied: numpy in /usr/local/lib/python3.7/dist-packages (from pytorch-model-summary) (1.19.5)\n",
      "Requirement already satisfied: typing-extensions in /usr/local/lib/python3.7/dist-packages (from torch->pytorch-model-summary) (3.7.4.3)\n",
      "Installing collected packages: pytorch-model-summary\n",
      "Successfully installed pytorch-model-summary-0.1.2\n"
     ]
    }
   ],
   "source": [
    "!pip install soundfile\n",
    "!pip install torchaudio==0.5.0 --no-deps\n",
    "!pip install pytorch-model-summary"
   ]
  },
  {
   "cell_type": "code",
   "execution_count": 4,
   "metadata": {
    "executionInfo": {
     "elapsed": 7945,
     "status": "ok",
     "timestamp": 1614960226254,
     "user": {
      "displayName": "aniket poojari",
      "photoUrl": "https://lh3.googleusercontent.com/a-/AOh14Ggq_cw5GlJ_HceHGjFtLxCCLPqiYvg5ffKS76adUw=s64",
      "userId": "09624879631889696305"
     },
     "user_tz": -330
    },
    "id": "sNmyxqN8TZoP"
   },
   "outputs": [],
   "source": [
    "import os\n",
    "import numpy as np\n",
    "import matplotlib.pyplot as plt\n",
    "%matplotlib inline\n",
    "from random import random, choice\n",
    "\n",
    "from IPython.display import Audio\n",
    "import librosa\n",
    "\n",
    "import torchaudio\n",
    "torchaudio.set_audio_backend(\"soundfile\")\n",
    "from torchaudio.transforms import Resample\n",
    "\n",
    "import torch\n",
    "from torch.utils.data import Dataset, DataLoader\n",
    "from torch.nn import Sequential, Conv1d, ReLU, MaxPool1d, Dropout, Linear, Flatten, CrossEntropyLoss, ConstantPad1d\n",
    "from torch.optim import Adam\n",
    "\n",
    "from pytorch_model_summary import summary"
   ]
  },
  {
   "cell_type": "code",
   "execution_count": 5,
   "metadata": {
    "executionInfo": {
     "elapsed": 6641,
     "status": "ok",
     "timestamp": 1614960226256,
     "user": {
      "displayName": "aniket poojari",
      "photoUrl": "https://lh3.googleusercontent.com/a-/AOh14Ggq_cw5GlJ_HceHGjFtLxCCLPqiYvg5ffKS76adUw=s64",
      "userId": "09624879631889696305"
     },
     "user_tz": -330
    },
    "id": "x9_v_MN7UvVC"
   },
   "outputs": [],
   "source": [
    "seed = 42\n",
    "np.random.seed(seed)\n",
    "torch.manual_seed(seed);"
   ]
  },
  {
   "cell_type": "markdown",
   "metadata": {
    "id": "TL_BzmECVyk5"
   },
   "source": [
    "# EDA"
   ]
  },
  {
   "cell_type": "code",
   "execution_count": 7,
   "metadata": {
    "colab": {
     "base_uri": "https://localhost:8080/"
    },
    "executionInfo": {
     "elapsed": 1022,
     "status": "ok",
     "timestamp": 1614960260304,
     "user": {
      "displayName": "aniket poojari",
      "photoUrl": "https://lh3.googleusercontent.com/a-/AOh14Ggq_cw5GlJ_HceHGjFtLxCCLPqiYvg5ffKS76adUw=s64",
      "userId": "09624879631889696305"
     },
     "user_tz": -330
    },
    "id": "Xoha48FRY-ix",
    "outputId": "e461419f-203f-40da-9d3a-76a32fe40737"
   },
   "outputs": [
    {
     "name": "stdout",
     "output_type": "stream",
     "text": [
      "Num of files in left folder is 3801\n",
      "Num of files in right folder is 3781\n",
      "Num of files in up folder is 3723\n",
      "Num of files in down folder is 3917\n"
     ]
    }
   ],
   "source": [
    "# NO OF FILES IN EACH CLASS\n",
    "for dirname in os.listdir(dir + 'dataset'):\n",
    "    print('Num of files in', dirname, 'folder is', len(os.listdir(dir + 'dataset/' + dirname)))"
   ]
  },
  {
   "cell_type": "code",
   "execution_count": 8,
   "metadata": {
    "executionInfo": {
     "elapsed": 1162,
     "status": "ok",
     "timestamp": 1614960266473,
     "user": {
      "displayName": "aniket poojari",
      "photoUrl": "https://lh3.googleusercontent.com/a-/AOh14Ggq_cw5GlJ_HceHGjFtLxCCLPqiYvg5ffKS76adUw=s64",
      "userId": "09624879631889696305"
     },
     "user_tz": -330
    },
    "id": "Lqs1ceA6Zh_J"
   },
   "outputs": [],
   "source": [
    "# SELECT ONE RANDOM FILE\n",
    "filepath = choice(os.listdir(dir + 'dataset/up'))"
   ]
  },
  {
   "cell_type": "code",
   "execution_count": 9,
   "metadata": {
    "executionInfo": {
     "elapsed": 1555,
     "status": "ok",
     "timestamp": 1614960274682,
     "user": {
      "displayName": "aniket poojari",
      "photoUrl": "https://lh3.googleusercontent.com/a-/AOh14Ggq_cw5GlJ_HceHGjFtLxCCLPqiYvg5ffKS76adUw=s64",
      "userId": "09624879631889696305"
     },
     "user_tz": -330
    },
    "id": "o2m07TZOZh74"
   },
   "outputs": [],
   "source": [
    "# LOAD FILE\n",
    "waveform, sample_rate = librosa.load(dir + 'dataset/up/' + filepath, sr = 16000)"
   ]
  },
  {
   "cell_type": "code",
   "execution_count": 10,
   "metadata": {
    "colab": {
     "base_uri": "https://localhost:8080/"
    },
    "executionInfo": {
     "elapsed": 1327,
     "status": "ok",
     "timestamp": 1614960276505,
     "user": {
      "displayName": "aniket poojari",
      "photoUrl": "https://lh3.googleusercontent.com/a-/AOh14Ggq_cw5GlJ_HceHGjFtLxCCLPqiYvg5ffKS76adUw=s64",
      "userId": "09624879631889696305"
     },
     "user_tz": -330
    },
    "id": "hY61DFJZZh4i",
    "outputId": "7041149a-a8e1-4eac-edc8-e7db153e4535"
   },
   "outputs": [
    {
     "data": {
      "text/plain": [
       "((16000,), 16000)"
      ]
     },
     "execution_count": 10,
     "metadata": {
      "tags": []
     },
     "output_type": "execute_result"
    }
   ],
   "source": [
    "waveform.shape, sample_rate"
   ]
  },
  {
   "cell_type": "code",
   "execution_count": 11,
   "metadata": {
    "colab": {
     "base_uri": "https://localhost:8080/",
     "height": 276
    },
    "executionInfo": {
     "elapsed": 1277,
     "status": "ok",
     "timestamp": 1614960279094,
     "user": {
      "displayName": "aniket poojari",
      "photoUrl": "https://lh3.googleusercontent.com/a-/AOh14Ggq_cw5GlJ_HceHGjFtLxCCLPqiYvg5ffKS76adUw=s64",
      "userId": "09624879631889696305"
     },
     "user_tz": -330
    },
    "id": "gdHIJk9XZh1H",
    "outputId": "0eb1f6e3-cd6b-4983-fb84-4c6fdf3c4d85"
   },
   "outputs": [
    {
     "data": {
      "image/png": "[encoded data removed]",
      "text/plain": [
       "<Figure size 1008x576 with 1 Axes>"
      ]
     },
     "metadata": {
      "needs_background": "light",
      "tags": []
     },
     "output_type": "display_data"
    }
   ],
   "source": [
    "fig = plt.figure(figsize=(14, 8))\n",
    "\n",
    "ax = fig.add_subplot(211)\n",
    "ax.set_title('Raw wave of ' + filepath)\n",
    "ax.set_xlabel('time')\n",
    "ax.set_ylabel('Amplitude')\n",
    "ax.plot(np.linspace(0, 1, sample_rate), waveform)\n",
    "\n",
    "plt.show()"
   ]
  },
  {
   "cell_type": "code",
   "execution_count": 12,
   "metadata": {
    "colab": {
     "base_uri": "https://localhost:8080/",
     "height": 75
    },
    "executionInfo": {
     "elapsed": 1293,
     "status": "ok",
     "timestamp": 1614960285119,
     "user": {
      "displayName": "aniket poojari",
      "photoUrl": "https://lh3.googleusercontent.com/a-/AOh14Ggq_cw5GlJ_HceHGjFtLxCCLPqiYvg5ffKS76adUw=s64",
      "userId": "09624879631889696305"
     },
     "user_tz": -330
    },
    "id": "AFfw4Uq-Zhxv",
    "outputId": "d4741d55-5550-4a1c-be90-3d8ef0a83b61"
   },
   "outputs": [
    {
     "data": {
      "text/html": [
       "\n",
       "                <audio controls=\"controls\" >\n",
       "                    <source src=\"data:audio/wav;base64,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\" type=\"audio/wav\" />\n",
       "                    Your browser does not support the audio element.\n",
       "                </audio>\n",
       "              "
      ],
      "text/plain": [
       "<IPython.lib.display.Audio object>"
      ]
     },
     "execution_count": 12,
     "metadata": {
      "tags": []
     },
     "output_type": "execute_result"
    }
   ],
   "source": [
    "Audio(waveform, rate=sample_rate)"
   ]
  },
  {
   "cell_type": "code",
   "execution_count": 13,
   "metadata": {
    "colab": {
     "base_uri": "https://localhost:8080/"
    },
    "executionInfo": {
     "elapsed": 1581,
     "status": "ok",
     "timestamp": 1614960287844,
     "user": {
      "displayName": "aniket poojari",
      "photoUrl": "https://lh3.googleusercontent.com/a-/AOh14Ggq_cw5GlJ_HceHGjFtLxCCLPqiYvg5ffKS76adUw=s64",
      "userId": "09624879631889696305"
     },
     "user_tz": -330
    },
    "id": "6d6yQjemZhuK",
    "outputId": "d66f08f8-95d5-4e60-b421-e13b31cccf3d"
   },
   "outputs": [
    {
     "data": {
      "text/plain": [
       "(8000,)"
      ]
     },
     "execution_count": 13,
     "metadata": {
      "tags": []
     },
     "output_type": "execute_result"
    }
   ],
   "source": [
    "# RESHAPE FILE\n",
    "waveform = librosa.resample(waveform, 16000, 8000)\n",
    "waveform.shape"
   ]
  },
  {
   "cell_type": "code",
   "execution_count": 14,
   "metadata": {
    "colab": {
     "base_uri": "https://localhost:8080/",
     "height": 276
    },
    "executionInfo": {
     "elapsed": 1398,
     "status": "ok",
     "timestamp": 1614960292840,
     "user": {
      "displayName": "aniket poojari",
      "photoUrl": "https://lh3.googleusercontent.com/a-/AOh14Ggq_cw5GlJ_HceHGjFtLxCCLPqiYvg5ffKS76adUw=s64",
      "userId": "09624879631889696305"
     },
     "user_tz": -330
    },
    "id": "U4NnerN_Zhqs",
    "outputId": "bd446846-80dc-429b-ad45-8f43a2da3c58"
   },
   "outputs": [
    {
     "data": {
      "image/png": "[encoded data removed]",
      "text/plain": [
       "<Figure size 1008x576 with 1 Axes>"
      ]
     },
     "metadata": {
      "needs_background": "light",
      "tags": []
     },
     "output_type": "display_data"
    }
   ],
   "source": [
    "fig = plt.figure(figsize=(14, 8))\n",
    "\n",
    "ax = fig.add_subplot(211)\n",
    "ax.set_title('Raw wave of ' + filepath)\n",
    "ax.set_xlabel('time')\n",
    "ax.set_ylabel('Amplitude')\n",
    "ax.plot(np.linspace(0, 1, 8000), waveform)\n",
    "\n",
    "plt.show()"
   ]
  },
  {
   "cell_type": "code",
   "execution_count": 15,
   "metadata": {
    "colab": {
     "base_uri": "https://localhost:8080/",
     "height": 75
    },
    "executionInfo": {
     "elapsed": 1241,
     "status": "ok",
     "timestamp": 1614960295286,
     "user": {
      "displayName": "aniket poojari",
      "photoUrl": "https://lh3.googleusercontent.com/a-/AOh14Ggq_cw5GlJ_HceHGjFtLxCCLPqiYvg5ffKS76adUw=s64",
      "userId": "09624879631889696305"
     },
     "user_tz": -330
    },
    "id": "dxbvkfsRZhna",
    "outputId": "751733fb-bdbc-47ab-ea72-f2323392954b"
   },
   "outputs": [
    {
     "data": {
      "text/html": [
       "\n",
       "                <audio controls=\"controls\" >\n",
       "                    <source src=\"data:audio/wav;base64,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\" type=\"audio/wav\" />\n",
       "                    Your browser does not support the audio element.\n",
       "                </audio>\n",
       "              "
      ],
      "text/plain": [
       "<IPython.lib.display.Audio object>"
      ]
     },
     "execution_count": 15,
     "metadata": {
      "tags": []
     },
     "output_type": "execute_result"
    }
   ],
   "source": [
    "Audio(waveform, rate = 8000)"
   ]
  },
  {
   "cell_type": "markdown",
   "metadata": {
    "id": "yDL2flztemMp"
   },
   "source": [
    "# LOADING DATA"
   ]
  },
  {
   "cell_type": "code",
   "execution_count": 16,
   "metadata": {
    "executionInfo": {
     "elapsed": 1071,
     "status": "ok",
     "timestamp": 1614960300058,
     "user": {
      "displayName": "aniket poojari",
      "photoUrl": "https://lh3.googleusercontent.com/a-/AOh14Ggq_cw5GlJ_HceHGjFtLxCCLPqiYvg5ffKS76adUw=s64",
      "userId": "09624879631889696305"
     },
     "user_tz": -330
    },
    "id": "_4nMSSKzXCRs"
   },
   "outputs": [],
   "source": [
    "classes_to_labels = {'up': 0, 'down': 1, 'left': 2, 'right': 3}"
   ]
  },
  {
   "cell_type": "code",
   "execution_count": 17,
   "metadata": {
    "executionInfo": {
     "elapsed": 1034,
     "status": "ok",
     "timestamp": 1614960310677,
     "user": {
      "displayName": "aniket poojari",
      "photoUrl": "https://lh3.googleusercontent.com/a-/AOh14Ggq_cw5GlJ_HceHGjFtLxCCLPqiYvg5ffKS76adUw=s64",
      "userId": "09624879631889696305"
     },
     "user_tz": -330
    },
    "id": "iIC8RFtfXLY6"
   },
   "outputs": [],
   "source": [
    "labels_to_classes = {0: 'up', 1: 'down', 2: 'left', 3: 'right'}"
   ]
  },
  {
   "cell_type": "code",
   "execution_count": 18,
   "metadata": {
    "executionInfo": {
     "elapsed": 695,
     "status": "ok",
     "timestamp": 1614960311906,
     "user": {
      "displayName": "aniket poojari",
      "photoUrl": "https://lh3.googleusercontent.com/a-/AOh14Ggq_cw5GlJ_HceHGjFtLxCCLPqiYvg5ffKS76adUw=s64",
      "userId": "09624879631889696305"
     },
     "user_tz": -330
    },
    "id": "HN67evsHU127"
   },
   "outputs": [],
   "source": [
    "class SpeechCommandsDataset(Dataset):\n",
    "    def __init__(self, data_dir):\n",
    "        self.filepaths = []\n",
    "        for dirname in os.listdir(data_dir):\n",
    "            for filename in os.listdir(data_dir + '/' + dirname):\n",
    "                if filename.endswith('.wav'):\n",
    "                    self.filepaths.append(data_dir + '/' + dirname + '/' + filename)\n",
    "\n",
    "    def __len__(self):\n",
    "        return len(self.filepaths)\n",
    "\n",
    "    def __getitem__(self, idx):\n",
    "        waveform, sample_rate = torchaudio.load(self.filepaths[idx])\n",
    "        \n",
    "        class_name = self.filepaths[idx].split('/')[-2]\n",
    "\n",
    "        if waveform.shape[1] > sample_rate:\n",
    "            waveform = waveform[:, :sample_rate]\n",
    "        elif waveform.shape[1] < sample_rate:\n",
    "            pad_len = sample_rate - waveform.shape[1]\n",
    "            waveform = ConstantPad1d((0, pad_len), 0)(waveform)\n",
    "\n",
    "        waveform = Resample(orig_freq = sample_rate, new_freq = 8000)(waveform)\n",
    "\n",
    "        waveform = waveform - waveform.min()\n",
    "        waveform = waveform / waveform.max()\n",
    "\n",
    "        label = classes_to_labels[class_name]\n",
    "\n",
    "        return waveform, label"
   ]
  },
  {
   "cell_type": "code",
   "execution_count": 19,
   "metadata": {
    "executionInfo": {
     "elapsed": 1182,
     "status": "ok",
     "timestamp": 1614960314739,
     "user": {
      "displayName": "aniket poojari",
      "photoUrl": "https://lh3.googleusercontent.com/a-/AOh14Ggq_cw5GlJ_HceHGjFtLxCCLPqiYvg5ffKS76adUw=s64",
      "userId": "09624879631889696305"
     },
     "user_tz": -330
    },
    "id": "mryDpq2rYAmv"
   },
   "outputs": [],
   "source": [
    "dataset = SpeechCommandsDataset(dir + 'dataset')"
   ]
  },
  {
   "cell_type": "code",
   "execution_count": 20,
   "metadata": {
    "executionInfo": {
     "elapsed": 1052,
     "status": "ok",
     "timestamp": 1614960317427,
     "user": {
      "displayName": "aniket poojari",
      "photoUrl": "https://lh3.googleusercontent.com/a-/AOh14Ggq_cw5GlJ_HceHGjFtLxCCLPqiYvg5ffKS76adUw=s64",
      "userId": "09624879631889696305"
     },
     "user_tz": -330
    },
    "id": "iKvw7Gk4YJMO"
   },
   "outputs": [],
   "source": [
    "data_loader = DataLoader(dataset, batch_size = 128, num_workers = 4, shuffle = True)"
   ]
  },
  {
   "cell_type": "code",
   "execution_count": 21,
   "metadata": {
    "executionInfo": {
     "elapsed": 73841,
     "status": "ok",
     "timestamp": 1614960392010,
     "user": {
      "displayName": "aniket poojari",
      "photoUrl": "https://lh3.googleusercontent.com/a-/AOh14Ggq_cw5GlJ_HceHGjFtLxCCLPqiYvg5ffKS76adUw=s64",
      "userId": "09624879631889696305"
     },
     "user_tz": -330
    },
    "id": "pt74MeqHYfnt"
   },
   "outputs": [],
   "source": [
    "# LOAD BATCH\n",
    "for batch_x, batch_y in data_loader:\n",
    "    break"
   ]
  },
  {
   "cell_type": "code",
   "execution_count": 22,
   "metadata": {
    "colab": {
     "base_uri": "https://localhost:8080/"
    },
    "executionInfo": {
     "elapsed": 1048,
     "status": "ok",
     "timestamp": 1614960399777,
     "user": {
      "displayName": "aniket poojari",
      "photoUrl": "https://lh3.googleusercontent.com/a-/AOh14Ggq_cw5GlJ_HceHGjFtLxCCLPqiYvg5ffKS76adUw=s64",
      "userId": "09624879631889696305"
     },
     "user_tz": -330
    },
    "id": "Dy77kBXxdhxh",
    "outputId": "189a9d9a-6ea8-4bf0-d21b-98f01583b29b"
   },
   "outputs": [
    {
     "data": {
      "text/plain": [
       "(torch.Size([128, 1, 8000]), torch.Size([128]))"
      ]
     },
     "execution_count": 22,
     "metadata": {
      "tags": []
     },
     "output_type": "execute_result"
    }
   ],
   "source": [
    "# CHECK SHAPE OF BATCH\n",
    "batch_x.shape, batch_y.shape"
   ]
  },
  {
   "cell_type": "code",
   "execution_count": 23,
   "metadata": {
    "executionInfo": {
     "elapsed": 1082,
     "status": "ok",
     "timestamp": 1614960405978,
     "user": {
      "displayName": "aniket poojari",
      "photoUrl": "https://lh3.googleusercontent.com/a-/AOh14Ggq_cw5GlJ_HceHGjFtLxCCLPqiYvg5ffKS76adUw=s64",
      "userId": "09624879631889696305"
     },
     "user_tz": -330
    },
    "id": "TcbnLvi5e1kQ"
   },
   "outputs": [],
   "source": [
    "# SELECT ONE SAMPLE FROM BATCH\n",
    "waveform, label = batch_x[5], batch_y[5]"
   ]
  },
  {
   "cell_type": "code",
   "execution_count": 24,
   "metadata": {
    "colab": {
     "base_uri": "https://localhost:8080/"
    },
    "executionInfo": {
     "elapsed": 1133,
     "status": "ok",
     "timestamp": 1614960410396,
     "user": {
      "displayName": "aniket poojari",
      "photoUrl": "https://lh3.googleusercontent.com/a-/AOh14Ggq_cw5GlJ_HceHGjFtLxCCLPqiYvg5ffKS76adUw=s64",
      "userId": "09624879631889696305"
     },
     "user_tz": -330
    },
    "id": "f5SXUVdGe_2K",
    "outputId": "a0dc6c7b-a439-41bc-ed98-0195b6e3713f"
   },
   "outputs": [
    {
     "data": {
      "text/plain": [
       "torch.Size([1, 8000])"
      ]
     },
     "execution_count": 24,
     "metadata": {
      "tags": []
     },
     "output_type": "execute_result"
    }
   ],
   "source": [
    "waveform.shape"
   ]
  },
  {
   "cell_type": "code",
   "execution_count": 25,
   "metadata": {
    "colab": {
     "base_uri": "https://localhost:8080/"
    },
    "executionInfo": {
     "elapsed": 1033,
     "status": "ok",
     "timestamp": 1614960415369,
     "user": {
      "displayName": "aniket poojari",
      "photoUrl": "https://lh3.googleusercontent.com/a-/AOh14Ggq_cw5GlJ_HceHGjFtLxCCLPqiYvg5ffKS76adUw=s64",
      "userId": "09624879631889696305"
     },
     "user_tz": -330
    },
    "id": "StTe-2IafCSR",
    "outputId": "7c3dc60c-0e3b-44d4-ff78-785b35a0f2cd"
   },
   "outputs": [
    {
     "data": {
      "text/plain": [
       "(tensor(0.), tensor(1.))"
      ]
     },
     "execution_count": 25,
     "metadata": {
      "tags": []
     },
     "output_type": "execute_result"
    }
   ],
   "source": [
    "waveform.min(), waveform.max()"
   ]
  },
  {
   "cell_type": "code",
   "execution_count": 26,
   "metadata": {
    "colab": {
     "base_uri": "https://localhost:8080/",
     "height": 75
    },
    "executionInfo": {
     "elapsed": 951,
     "status": "ok",
     "timestamp": 1614960416936,
     "user": {
      "displayName": "aniket poojari",
      "photoUrl": "https://lh3.googleusercontent.com/a-/AOh14Ggq_cw5GlJ_HceHGjFtLxCCLPqiYvg5ffKS76adUw=s64",
      "userId": "09624879631889696305"
     },
     "user_tz": -330
    },
    "id": "TAOGcp8WfIeG",
    "outputId": "22fd60ee-2149-4dd6-b34d-3784a78ddf06"
   },
   "outputs": [
    {
     "data": {
      "text/html": [
       "\n",
       "                <audio controls=\"controls\" >\n",
       "                    <source src=\"data:audio/wav;base64,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\" type=\"audio/wav\" />\n",
       "                    Your browser does not support the audio element.\n",
       "                </audio>\n",
       "              "
      ],
      "text/plain": [
       "<IPython.lib.display.Audio object>"
      ]
     },
     "execution_count": 26,
     "metadata": {
      "tags": []
     },
     "output_type": "execute_result"
    }
   ],
   "source": [
    "Audio(waveform, rate=8000)"
   ]
  },
  {
   "cell_type": "code",
   "execution_count": 27,
   "metadata": {
    "colab": {
     "base_uri": "https://localhost:8080/"
    },
    "executionInfo": {
     "elapsed": 1150,
     "status": "ok",
     "timestamp": 1614960421120,
     "user": {
      "displayName": "aniket poojari",
      "photoUrl": "https://lh3.googleusercontent.com/a-/AOh14Ggq_cw5GlJ_HceHGjFtLxCCLPqiYvg5ffKS76adUw=s64",
      "userId": "09624879631889696305"
     },
     "user_tz": -330
    },
    "id": "_lZAix3_fM_H",
    "outputId": "7fcce56a-d5a3-426f-c164-456d453d04d8"
   },
   "outputs": [
    {
     "data": {
      "text/plain": [
       "tensor(3)"
      ]
     },
     "execution_count": 27,
     "metadata": {
      "tags": []
     },
     "output_type": "execute_result"
    }
   ],
   "source": [
    "label"
   ]
  },
  {
   "cell_type": "code",
   "execution_count": 28,
   "metadata": {
    "colab": {
     "base_uri": "https://localhost:8080/",
     "height": 35
    },
    "executionInfo": {
     "elapsed": 736,
     "status": "ok",
     "timestamp": 1614960422499,
     "user": {
      "displayName": "aniket poojari",
      "photoUrl": "https://lh3.googleusercontent.com/a-/AOh14Ggq_cw5GlJ_HceHGjFtLxCCLPqiYvg5ffKS76adUw=s64",
      "userId": "09624879631889696305"
     },
     "user_tz": -330
    },
    "id": "_EI3ElaVfRqc",
    "outputId": "04c06eed-3606-4cf6-d0c2-c454ace38e57"
   },
   "outputs": [
    {
     "data": {
      "application/vnd.google.colaboratory.intrinsic+json": {
       "type": "string"
      },
      "text/plain": [
       "'right'"
      ]
     },
     "execution_count": 28,
     "metadata": {
      "tags": []
     },
     "output_type": "execute_result"
    }
   ],
   "source": [
    "labels_to_classes[int(label)]"
   ]
  },
  {
   "cell_type": "markdown",
   "metadata": {
    "id": "1DiDEIcHgJzJ"
   },
   "source": [
    "# MODEL"
   ]
  },
  {
   "cell_type": "markdown",
   "metadata": {
    "id": "Bxk72iBggMAt"
   },
   "source": [
    "## ARCHITECTURE"
   ]
  },
  {
   "cell_type": "code",
   "execution_count": 29,
   "metadata": {
    "executionInfo": {
     "elapsed": 1251,
     "status": "ok",
     "timestamp": 1614960429761,
     "user": {
      "displayName": "aniket poojari",
      "photoUrl": "https://lh3.googleusercontent.com/a-/AOh14Ggq_cw5GlJ_HceHGjFtLxCCLPqiYvg5ffKS76adUw=s64",
      "userId": "09624879631889696305"
     },
     "user_tz": -330
    },
    "id": "OPoGCOTHfUlG"
   },
   "outputs": [],
   "source": [
    "model = Sequential(\n",
    "    Conv1d(in_channels=1, out_channels=64, kernel_size=13),\n",
    "    ReLU(),\n",
    "    MaxPool1d(4),\n",
    "\n",
    "    Conv1d(in_channels=64, out_channels=64, kernel_size=13),\n",
    "    ReLU(),\n",
    "    MaxPool1d(4),\n",
    "\n",
    "    Conv1d(in_channels=64, out_channels=64, kernel_size=13),\n",
    "    ReLU(),\n",
    "    MaxPool1d(4),\n",
    "\n",
    "    Conv1d(in_channels=64, out_channels=64, kernel_size=13),\n",
    "    ReLU(),\n",
    "    MaxPool1d(4),\n",
    "\n",
    "    Flatten(),\n",
    "    # 1728\n",
    "    Linear(1728, 256),\n",
    "    ReLU(),\n",
    "    Dropout(0.3),\n",
    "    \n",
    "    Linear(256, 32),\n",
    "    ReLU(),\n",
    "    Dropout(0.3),\n",
    "\n",
    "    Linear(32, 4)\n",
    ")"
   ]
  },
  {
   "cell_type": "code",
   "execution_count": 30,
   "metadata": {
    "colab": {
     "base_uri": "https://localhost:8080/"
    },
    "executionInfo": {
     "elapsed": 1082,
     "status": "ok",
     "timestamp": 1614960432384,
     "user": {
      "displayName": "aniket poojari",
      "photoUrl": "https://lh3.googleusercontent.com/a-/AOh14Ggq_cw5GlJ_HceHGjFtLxCCLPqiYvg5ffKS76adUw=s64",
      "userId": "09624879631889696305"
     },
     "user_tz": -330
    },
    "id": "QLDxbvg4h2jK",
    "outputId": "535435ac-b182-411c-b204-9d21810d81d9"
   },
   "outputs": [
    {
     "name": "stdout",
     "output_type": "stream",
     "text": [
      "-----------------------------------------------------------------------\n",
      "      Layer (type)        Output Shape         Param #     Tr. Param #\n",
      "=======================================================================\n",
      "          Conv1d-1       [1, 64, 7988]             896             896\n",
      "            ReLU-2       [1, 64, 7988]               0               0\n",
      "       MaxPool1d-3       [1, 64, 1997]               0               0\n",
      "          Conv1d-4       [1, 64, 1985]          53,312          53,312\n",
      "            ReLU-5       [1, 64, 1985]               0               0\n",
      "       MaxPool1d-6        [1, 64, 496]               0               0\n",
      "          Conv1d-7        [1, 64, 484]          53,312          53,312\n",
      "            ReLU-8        [1, 64, 484]               0               0\n",
      "       MaxPool1d-9        [1, 64, 121]               0               0\n",
      "         Conv1d-10        [1, 64, 109]          53,312          53,312\n",
      "           ReLU-11        [1, 64, 109]               0               0\n",
      "      MaxPool1d-12         [1, 64, 27]               0               0\n",
      "        Flatten-13           [1, 1728]               0               0\n",
      "         Linear-14            [1, 256]         442,624         442,624\n",
      "           ReLU-15            [1, 256]               0               0\n",
      "        Dropout-16            [1, 256]               0               0\n",
      "         Linear-17             [1, 32]           8,224           8,224\n",
      "           ReLU-18             [1, 32]               0               0\n",
      "        Dropout-19             [1, 32]               0               0\n",
      "         Linear-20              [1, 4]             132             132\n",
      "=======================================================================\n",
      "Total params: 611,812\n",
      "Trainable params: 611,812\n",
      "Non-trainable params: 0\n",
      "-----------------------------------------------------------------------\n"
     ]
    }
   ],
   "source": [
    "print(summary(model, batch_x[:1]))"
   ]
  },
  {
   "cell_type": "code",
   "execution_count": 31,
   "metadata": {
    "executionInfo": {
     "elapsed": 9361,
     "status": "ok",
     "timestamp": 1614960446899,
     "user": {
      "displayName": "aniket poojari",
      "photoUrl": "https://lh3.googleusercontent.com/a-/AOh14Ggq_cw5GlJ_HceHGjFtLxCCLPqiYvg5ffKS76adUw=s64",
      "userId": "09624879631889696305"
     },
     "user_tz": -330
    },
    "id": "7EM5pX7Eh3kV"
   },
   "outputs": [],
   "source": [
    "model = model.to(\"cuda\")"
   ]
  },
  {
   "cell_type": "code",
   "execution_count": 32,
   "metadata": {
    "executionInfo": {
     "elapsed": 1043,
     "status": "ok",
     "timestamp": 1614960450759,
     "user": {
      "displayName": "aniket poojari",
      "photoUrl": "https://lh3.googleusercontent.com/a-/AOh14Ggq_cw5GlJ_HceHGjFtLxCCLPqiYvg5ffKS76adUw=s64",
      "userId": "09624879631889696305"
     },
     "user_tz": -330
    },
    "id": "VOCzHr8bm6pi"
   },
   "outputs": [],
   "source": [
    "criterion = CrossEntropyLoss()\n",
    "optimizer = Adam(model.parameters(), lr=0.001)"
   ]
  },
  {
   "cell_type": "markdown",
   "metadata": {
    "id": "QVUXtKbJn_fs"
   },
   "source": [
    "## TRAIN"
   ]
  },
  {
   "cell_type": "code",
   "execution_count": 34,
   "metadata": {
    "colab": {
     "base_uri": "https://localhost:8080/"
    },
    "executionInfo": {
     "elapsed": 1173631,
     "status": "ok",
     "timestamp": 1614963101550,
     "user": {
      "displayName": "aniket poojari",
      "photoUrl": "https://lh3.googleusercontent.com/a-/AOh14Ggq_cw5GlJ_HceHGjFtLxCCLPqiYvg5ffKS76adUw=s64",
      "userId": "09624879631889696305"
     },
     "user_tz": -330
    },
    "id": "dFhTBPZQn2qG",
    "outputId": "1a80f508-680d-4c82-c4e6-a98d446287c1"
   },
   "outputs": [
    {
     "name": "stdout",
     "output_type": "stream",
     "text": [
      "Training loss for epoch 1 is 1.13671 \n",
      "Training loss for epoch 2 is 0.82466 \n",
      "Training loss for epoch 3 is 0.58818 \n",
      "Training loss for epoch 4 is 0.42313 \n",
      "Training loss for epoch 5 is 0.32247 \n",
      "Training loss for epoch 6 is 0.26137 \n",
      "Training loss for epoch 7 is 0.21025 \n",
      "Training loss for epoch 8 is 0.18617 \n",
      "Training loss for epoch 9 is 0.16806 \n",
      "Training loss for epoch 10 is 0.16207 \n",
      "Training loss for epoch 11 is 0.14131 \n",
      "Training loss for epoch 12 is 0.14183 \n",
      "Training loss for epoch 13 is 0.12107 \n",
      "Training loss for epoch 14 is 0.10481 \n",
      "Training loss for epoch 15 is 0.09582 \n",
      "Training loss for epoch 16 is 0.09470 \n",
      "Training loss for epoch 17 is 0.08840 \n",
      "Training loss for epoch 18 is 0.08508 \n",
      "Training loss for epoch 19 is 0.07612 \n",
      "Training loss for epoch 20 is 0.06599 \n"
     ]
    }
   ],
   "source": [
    "model.train()\n",
    "\n",
    "best_loss = float('inf')\n",
    "\n",
    "for epoch in range(20):\n",
    "\n",
    "    epoch_loss = cnt = 0\n",
    "\n",
    "    for batch_x, batch_y in data_loader:\n",
    "        batch_x = batch_x.to(\"cuda\").type(torch.cuda.FloatTensor)\n",
    "        batch_y = batch_y.to(\"cuda\").type(torch.cuda.LongTensor)\n",
    "\n",
    "        optimizer.zero_grad()\n",
    "\n",
    "        outputs = model(batch_x)\n",
    "\n",
    "        outputs = outputs.squeeze()\n",
    "\n",
    "        loss = criterion(outputs, batch_y)\n",
    "\n",
    "        if loss < best_loss:\n",
    "          best_loss = loss\n",
    "          torch.save(model.state_dict(), dir + 'saved_weights.pt')\n",
    "\n",
    "        loss.backward()\n",
    "\n",
    "        optimizer.step()\n",
    "\n",
    "        epoch_loss += loss.item()\n",
    "        cnt += 1\n",
    "\n",
    "    epoch_loss /= cnt\n",
    "    \n",
    "    print(\"Training loss for epoch {} is {:.5f} \".format(epoch + 1, epoch_loss))"
   ]
  },
  {
   "cell_type": "code",
   "execution_count": null,
   "metadata": {
    "id": "WxL1aMF2xpYp"
   },
   "outputs": [],
   "source": []
  }
 ],
 "metadata": {
  "accelerator": "GPU",
  "colab": {
   "authorship_tag": "ABX9TyNREDT1LFRtF1e/Si1ZR/MS",
   "collapsed_sections": [],
   "mount_file_id": "1zWS6xKmhgiPBZg4Fzkgb_G7L3aOzEeij",
   "name": "Training.ipynb",
   "provenance": []
  },
  "kernelspec": {
   "display_name": "Python 3",
   "language": "python",
   "name": "python3"
  },
  "language_info": {
   "codemirror_mode": {
    "name": "ipython",
    "version": 3
   },
   "file_extension": ".py",
   "mimetype": "text/x-python",
   "name": "python",
   "nbconvert_exporter": "python",
   "pygments_lexer": "ipython3",
   "version": "3.8.5"
  }
 },
 "nbformat": 4,
 "nbformat_minor": 1
}
